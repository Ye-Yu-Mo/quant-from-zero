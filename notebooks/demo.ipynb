{
 "cells": [
  {
   "cell_type": "markdown",
   "metadata": {},
   "source": [
    "# 量化投资演示 Notebook\n",
    "\n",
    "这是一个演示用的 Jupyter Notebook，展示基本的量化分析流程。"
   ]
  },
  {
   "cell_type": "code",
   "execution_count": null,
   "metadata": {},
   "outputs": [],
   "source": [
    "import numpy as np\n",
    "import pandas as pd\n",
    "import matplotlib.pyplot as plt\n",
    "import yfinance as yf\n",
    "\n",
    "# 设置中文字体\n",
    "plt.rcParams['font.sans-serif'] = ['SimHei']\n",
    "plt.rcParams['axes.unicode_minus'] = False"
   ]
  },
  {
   "cell_type": "code",
   "execution_count": null,
   "metadata": {},
   "outputs": [],
   "source": [
    "# 获取股票数据\n",
    "ticker = 'AAPL'\n",
    "start_date = '2020-01-01'\n",
    "end_date = '2024-01-01'\n",
    "\n",
    "data = yf.download(ticker, start=start_date, end=end_date)\n",
    "print(f\"获取到 {len(data)} 条数据\")"
   ]
  },
  {
   "cell_type": "code",
   "execution_count": null,
   "metadata": {},
   "outputs": [],
   "source": [
    "# 计算收益率\n",
    "data['Return'] = data['Close'].pct_change()\n",
    "data['Cumulative_Return'] = (1 + data['Return']).cumprod()\n",
    "\n",
    "# 绘制价格和累计收益率\n",
    "fig, (ax1, ax2) = plt.subplots(2, 1, figsize=(12, 8))\n",
    "\n",
    "ax1.plot(data.index, data['Close'])\n",
    "ax1.set_title(f'{ticker} 股价走势')\n",
    "ax1.set_ylabel('价格 (USD)')\n",
    "\n",
    "ax2.plot(data.index, data['Cumulative_Return'])\n",
    "ax2.set_title('累计收益率')\n",
    "ax2.set_ylabel('累计收益率')\n",
    "ax2.set_xlabel('日期')\n",
    "\n",
    "plt.tight_layout()\n",
    "plt.show()"
   ]
  },
  {
   "cell_type": "code",
   "execution_count": null,
   "metadata": {},
   "outputs": [],
   "source": [
    "# 基本统计信息\n",
    "print(\"收益率统计信息:\")\n",
    "print(f\"平均日收益率: {data['Return'].mean():.4%}\")\n",
    "print(f\"收益率标准差: {data['Return'].std():.4%}\")\n",
    "print(f\"夏普比率 (年化): {data['Return'].mean() / data['Return'].std() * np.sqrt(252):.4f}\")\n",
    "print(f\"最大回撤: {((data['Close'] / data['Close'].cummax()) - 1).min():.4%}\")"
   ]
  },
  {
   "cell_type": "markdown",
   "metadata": {},
   "source": [
    "## 总结\n",
    "\n",
    "这个演示展示了：\n",
    "1. 数据获取 (yfinance)\n",
    "2. 收益率计算\n",
    "3. 可视化分析\n",
    "4. 基本统计指标\n",
    "\n",
    "后续可以在此基础上添加更复杂的分析，如：\n",
    "- 技术指标\n",
    "- 风险模型\n",
    "- 策略回测\n",
    "- 机器学习模型"
   ]
  }
 ],
 "metadata": {
  "kernelspec": {
   "display_name": "Python 3",
   "language": "python",
   "name": "python3"
  },
  "language_info": {
   "codemirror_mode": {
    "name": "ipython",
    "version": 3
   },
   "file_extension": ".py",
   "mimetype": "text/x-python",
   "name": "python",
   "nbconvert_exporter": "python",
   "pygments_lexer": "ipython3",
   "version": "3.9.0"
  }
 },
 "nbformat": 4,
 "nbformat_minor": 4
}
